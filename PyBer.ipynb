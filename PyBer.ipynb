{
 "cells": [
  {
   "cell_type": "code",
   "execution_count": 1,
   "id": "09abe5de",
   "metadata": {},
   "outputs": [
    {
     "data": {
      "text/plain": [
       "'\\nProcess Flow:\\n\\n1. Import data into a Pandas DataFrame.\\n    1.1  Set dependencies\\n    1.2  Establish files to load\\n    1.3  Read files\\n    1.4  Exploratory Data Analysis\\n2. Merge DataFrames.\\n3. Create a bubble chart that showcases the average fare versus the total number of rides with bubble size based on the total number of drivers for each city type, including urban, suburban, and rural.\\n4. Determine the mean, median, and mode for the following:\\n5. The total number of rides for each city type.\\n6. The average fares for each city type.\\n7. The total number of drivers for each city type.\\n8. Create box-and-whisker plots that visualize each of the following to determine if there are any outliers:\\n9. The number of rides for each city type.\\n10. The fares for each city type.\\n11. The number of drivers for each city type.\\n12. Create a pie chart that visualizes each of the following data for each city type:\\n13. The percent of total fares.\\n14. The percent of total rides.\\n15. The percent of total drivers.\\n\\n'"
      ]
     },
     "execution_count": 1,
     "metadata": {},
     "output_type": "execute_result"
    }
   ],
   "source": [
    "\"\"\"\n",
    "Process Flow:\n",
    "\n",
    "1. Import data into a Pandas DataFrame.\n",
    "    1.1  Set dependencies\n",
    "    1.2  Establish files to load\n",
    "    1.3  Read files\n",
    "    1.4  Exploratory Data Analysis\n",
    "2. Merge DataFrames.\n",
    "3. Create a bubble chart that showcases the average fare versus the total number of rides with bubble size based on the total number of drivers for each city type, including urban, suburban, and rural.\n",
    "4. Determine the mean, median, and mode for the following:\n",
    "5. The total number of rides for each city type.\n",
    "6. The average fares for each city type.\n",
    "7. The total number of drivers for each city type.\n",
    "8. Create box-and-whisker plots that visualize each of the following to determine if there are any outliers:\n",
    "9. The number of rides for each city type.\n",
    "10. The fares for each city type.\n",
    "11. The number of drivers for each city type.\n",
    "12. Create a pie chart that visualizes each of the following data for each city type:\n",
    "13. The percent of total fares.\n",
    "14. The percent of total rides.\n",
    "15. The percent of total drivers.\n",
    "\n",
    "\"\"\""
   ]
  },
  {
   "cell_type": "code",
   "execution_count": 2,
   "id": "491bbe37",
   "metadata": {},
   "outputs": [],
   "source": [
    "## 1. Set dependencies and import data into dataframes\n",
    "# 1.1 Set dependencies\n",
    "\n",
    "%matplotlib inline\n",
    "# Dependencies\n",
    "import matplotlib.pyplot as plt\n",
    "import pandas as pd\n",
    "import numpy as np\n",
    "import scipy.stats as sts\n",
    "import matplotlib as mpl\n"
   ]
  },
  {
   "cell_type": "code",
   "execution_count": 3,
   "id": "e2af7d97",
   "metadata": {},
   "outputs": [],
   "source": [
    "# 1.2 Files to load\n",
    "city_data_to_load = \"Resources/city_data.csv\"\n",
    "ride_data_to_load = \"Resources/ride_data.csv\""
   ]
  },
  {
   "cell_type": "code",
   "execution_count": 4,
   "id": "4bd950b8",
   "metadata": {},
   "outputs": [
    {
     "data": {
      "text/html": [
       "<div>\n",
       "<style scoped>\n",
       "    .dataframe tbody tr th:only-of-type {\n",
       "        vertical-align: middle;\n",
       "    }\n",
       "\n",
       "    .dataframe tbody tr th {\n",
       "        vertical-align: top;\n",
       "    }\n",
       "\n",
       "    .dataframe thead th {\n",
       "        text-align: right;\n",
       "    }\n",
       "</style>\n",
       "<table border=\"1\" class=\"dataframe\">\n",
       "  <thead>\n",
       "    <tr style=\"text-align: right;\">\n",
       "      <th></th>\n",
       "      <th>city</th>\n",
       "      <th>driver_count</th>\n",
       "      <th>type</th>\n",
       "    </tr>\n",
       "  </thead>\n",
       "  <tbody>\n",
       "    <tr>\n",
       "      <th>0</th>\n",
       "      <td>Richardfort</td>\n",
       "      <td>38</td>\n",
       "      <td>Urban</td>\n",
       "    </tr>\n",
       "    <tr>\n",
       "      <th>1</th>\n",
       "      <td>Williamsstad</td>\n",
       "      <td>59</td>\n",
       "      <td>Urban</td>\n",
       "    </tr>\n",
       "    <tr>\n",
       "      <th>2</th>\n",
       "      <td>Port Angela</td>\n",
       "      <td>67</td>\n",
       "      <td>Urban</td>\n",
       "    </tr>\n",
       "    <tr>\n",
       "      <th>3</th>\n",
       "      <td>Rodneyfort</td>\n",
       "      <td>34</td>\n",
       "      <td>Urban</td>\n",
       "    </tr>\n",
       "    <tr>\n",
       "      <th>4</th>\n",
       "      <td>West Robert</td>\n",
       "      <td>39</td>\n",
       "      <td>Urban</td>\n",
       "    </tr>\n",
       "    <tr>\n",
       "      <th>5</th>\n",
       "      <td>West Anthony</td>\n",
       "      <td>70</td>\n",
       "      <td>Urban</td>\n",
       "    </tr>\n",
       "    <tr>\n",
       "      <th>6</th>\n",
       "      <td>West Angela</td>\n",
       "      <td>48</td>\n",
       "      <td>Urban</td>\n",
       "    </tr>\n",
       "    <tr>\n",
       "      <th>7</th>\n",
       "      <td>Martinezhaven</td>\n",
       "      <td>25</td>\n",
       "      <td>Urban</td>\n",
       "    </tr>\n",
       "    <tr>\n",
       "      <th>8</th>\n",
       "      <td>Karenberg</td>\n",
       "      <td>22</td>\n",
       "      <td>Urban</td>\n",
       "    </tr>\n",
       "    <tr>\n",
       "      <th>9</th>\n",
       "      <td>Barajasview</td>\n",
       "      <td>26</td>\n",
       "      <td>Urban</td>\n",
       "    </tr>\n",
       "  </tbody>\n",
       "</table>\n",
       "</div>"
      ],
      "text/plain": [
       "            city  driver_count   type\n",
       "0    Richardfort            38  Urban\n",
       "1   Williamsstad            59  Urban\n",
       "2    Port Angela            67  Urban\n",
       "3     Rodneyfort            34  Urban\n",
       "4    West Robert            39  Urban\n",
       "5   West Anthony            70  Urban\n",
       "6    West Angela            48  Urban\n",
       "7  Martinezhaven            25  Urban\n",
       "8      Karenberg            22  Urban\n",
       "9    Barajasview            26  Urban"
      ]
     },
     "execution_count": 4,
     "metadata": {},
     "output_type": "execute_result"
    }
   ],
   "source": [
    "# 1.3 Read the city data and store as a DataFrame (pandas)\n",
    "\n",
    "city_data_df = pd.read_csv(city_data_to_load)\n",
    "city_data_df.head(10)"
   ]
  },
  {
   "cell_type": "code",
   "execution_count": 5,
   "id": "e0c4ff88",
   "metadata": {},
   "outputs": [
    {
     "data": {
      "text/html": [
       "<div>\n",
       "<style scoped>\n",
       "    .dataframe tbody tr th:only-of-type {\n",
       "        vertical-align: middle;\n",
       "    }\n",
       "\n",
       "    .dataframe tbody tr th {\n",
       "        vertical-align: top;\n",
       "    }\n",
       "\n",
       "    .dataframe thead th {\n",
       "        text-align: right;\n",
       "    }\n",
       "</style>\n",
       "<table border=\"1\" class=\"dataframe\">\n",
       "  <thead>\n",
       "    <tr style=\"text-align: right;\">\n",
       "      <th></th>\n",
       "      <th>city</th>\n",
       "      <th>date</th>\n",
       "      <th>fare</th>\n",
       "      <th>ride_id</th>\n",
       "    </tr>\n",
       "  </thead>\n",
       "  <tbody>\n",
       "    <tr>\n",
       "      <th>0</th>\n",
       "      <td>Lake Jonathanshire</td>\n",
       "      <td>2019-01-14 10:14:22</td>\n",
       "      <td>13.83</td>\n",
       "      <td>5739410935873</td>\n",
       "    </tr>\n",
       "    <tr>\n",
       "      <th>1</th>\n",
       "      <td>South Michelleport</td>\n",
       "      <td>2019-03-04 18:24:09</td>\n",
       "      <td>30.24</td>\n",
       "      <td>2343912425577</td>\n",
       "    </tr>\n",
       "    <tr>\n",
       "      <th>2</th>\n",
       "      <td>Port Samanthamouth</td>\n",
       "      <td>2019-02-24 04:29:00</td>\n",
       "      <td>33.44</td>\n",
       "      <td>2005065760003</td>\n",
       "    </tr>\n",
       "    <tr>\n",
       "      <th>3</th>\n",
       "      <td>Rodneyfort</td>\n",
       "      <td>2019-02-10 23:22:03</td>\n",
       "      <td>23.44</td>\n",
       "      <td>5149245426178</td>\n",
       "    </tr>\n",
       "    <tr>\n",
       "      <th>4</th>\n",
       "      <td>South Jack</td>\n",
       "      <td>2019-03-06 04:28:35</td>\n",
       "      <td>34.58</td>\n",
       "      <td>3908451377344</td>\n",
       "    </tr>\n",
       "    <tr>\n",
       "      <th>5</th>\n",
       "      <td>South Latoya</td>\n",
       "      <td>2019-03-11 12:26:48</td>\n",
       "      <td>9.52</td>\n",
       "      <td>1994999424437</td>\n",
       "    </tr>\n",
       "    <tr>\n",
       "      <th>6</th>\n",
       "      <td>New Paulville</td>\n",
       "      <td>2019-02-27 11:17:56</td>\n",
       "      <td>43.25</td>\n",
       "      <td>793208410091</td>\n",
       "    </tr>\n",
       "    <tr>\n",
       "      <th>7</th>\n",
       "      <td>Simpsonburgh</td>\n",
       "      <td>2019-04-26 00:43:24</td>\n",
       "      <td>35.98</td>\n",
       "      <td>111953927754</td>\n",
       "    </tr>\n",
       "    <tr>\n",
       "      <th>8</th>\n",
       "      <td>South Karenland</td>\n",
       "      <td>2019-01-08 03:28:48</td>\n",
       "      <td>35.09</td>\n",
       "      <td>7995623208694</td>\n",
       "    </tr>\n",
       "    <tr>\n",
       "      <th>9</th>\n",
       "      <td>North Jasmine</td>\n",
       "      <td>2019-03-09 06:26:29</td>\n",
       "      <td>42.81</td>\n",
       "      <td>5327642267789</td>\n",
       "    </tr>\n",
       "  </tbody>\n",
       "</table>\n",
       "</div>"
      ],
      "text/plain": [
       "                 city                 date   fare        ride_id\n",
       "0  Lake Jonathanshire  2019-01-14 10:14:22  13.83  5739410935873\n",
       "1  South Michelleport  2019-03-04 18:24:09  30.24  2343912425577\n",
       "2  Port Samanthamouth  2019-02-24 04:29:00  33.44  2005065760003\n",
       "3          Rodneyfort  2019-02-10 23:22:03  23.44  5149245426178\n",
       "4          South Jack  2019-03-06 04:28:35  34.58  3908451377344\n",
       "5        South Latoya  2019-03-11 12:26:48   9.52  1994999424437\n",
       "6       New Paulville  2019-02-27 11:17:56  43.25   793208410091\n",
       "7        Simpsonburgh  2019-04-26 00:43:24  35.98   111953927754\n",
       "8     South Karenland  2019-01-08 03:28:48  35.09  7995623208694\n",
       "9       North Jasmine  2019-03-09 06:26:29  42.81  5327642267789"
      ]
     },
     "execution_count": 5,
     "metadata": {},
     "output_type": "execute_result"
    }
   ],
   "source": [
    "ride_data_df = pd.read_csv(ride_data_to_load)\n",
    "ride_data_df.head(10)"
   ]
  },
  {
   "cell_type": "code",
   "execution_count": 6,
   "id": "d15496bb",
   "metadata": {},
   "outputs": [
    {
     "data": {
      "text/plain": [
       "city            120\n",
       "driver_count    120\n",
       "type            120\n",
       "dtype: int64"
      ]
     },
     "execution_count": 6,
     "metadata": {},
     "output_type": "execute_result"
    }
   ],
   "source": [
    "# 1.4 Eploratory Data Analysis\n",
    "# 1.4.1 Get columns and rows that are not null in the City DF\n",
    "\n",
    "city_data_df.count()\n"
   ]
  },
  {
   "cell_type": "code",
   "execution_count": 7,
   "id": "c519acf7",
   "metadata": {},
   "outputs": [
    {
     "data": {
      "text/plain": [
       "city            0\n",
       "driver_count    0\n",
       "type            0\n",
       "dtype: int64"
      ]
     },
     "execution_count": 7,
     "metadata": {},
     "output_type": "execute_result"
    }
   ],
   "source": [
    "city_data_df.isnull().sum()"
   ]
  },
  {
   "cell_type": "code",
   "execution_count": 8,
   "id": "a0566867",
   "metadata": {},
   "outputs": [
    {
     "data": {
      "text/plain": [
       "city            object\n",
       "driver_count     int64\n",
       "type            object\n",
       "dtype: object"
      ]
     },
     "execution_count": 8,
     "metadata": {},
     "output_type": "execute_result"
    }
   ],
   "source": [
    "city_data_df.dtypes"
   ]
  },
  {
   "cell_type": "code",
   "execution_count": 9,
   "id": "b4b7f81b",
   "metadata": {},
   "outputs": [
    {
     "data": {
      "text/plain": [
       "array(['Urban', 'Suburban', 'Rural'], dtype=object)"
      ]
     },
     "execution_count": 9,
     "metadata": {},
     "output_type": "execute_result"
    }
   ],
   "source": [
    "# How many cities are there per type? \n",
    "city_data_df[\"type\"].unique()"
   ]
  },
  {
   "cell_type": "code",
   "execution_count": 10,
   "id": "fec14a0d",
   "metadata": {},
   "outputs": [
    {
     "data": {
      "text/plain": [
       "66"
      ]
     },
     "execution_count": 10,
     "metadata": {},
     "output_type": "execute_result"
    }
   ],
   "source": [
    "sum(city_data_df[\"type\"]==\"Urban\")"
   ]
  },
  {
   "cell_type": "code",
   "execution_count": 11,
   "id": "fede2691",
   "metadata": {},
   "outputs": [
    {
     "data": {
      "text/plain": [
       "36"
      ]
     },
     "execution_count": 11,
     "metadata": {},
     "output_type": "execute_result"
    }
   ],
   "source": [
    "sum(city_data_df[\"type\"]==\"Suburban\")"
   ]
  },
  {
   "cell_type": "code",
   "execution_count": 12,
   "id": "8fe00cc2",
   "metadata": {},
   "outputs": [
    {
     "data": {
      "text/plain": [
       "18"
      ]
     },
     "execution_count": 12,
     "metadata": {},
     "output_type": "execute_result"
    }
   ],
   "source": [
    "sum(city_data_df[\"type\"]==\"Rural\")"
   ]
  },
  {
   "cell_type": "code",
   "execution_count": 13,
   "id": "d1bfdc60",
   "metadata": {},
   "outputs": [
    {
     "data": {
      "text/plain": [
       "city       2375\n",
       "date       2375\n",
       "fare       2375\n",
       "ride_id    2375\n",
       "dtype: int64"
      ]
     },
     "execution_count": 13,
     "metadata": {},
     "output_type": "execute_result"
    }
   ],
   "source": [
    "# 1.4.2 Exploratory Data Analysis on the Riders DF\n",
    "ride_data_df.count()"
   ]
  },
  {
   "cell_type": "code",
   "execution_count": 14,
   "id": "a118f800",
   "metadata": {},
   "outputs": [
    {
     "data": {
      "text/plain": [
       "city       0\n",
       "date       0\n",
       "fare       0\n",
       "ride_id    0\n",
       "dtype: int64"
      ]
     },
     "execution_count": 14,
     "metadata": {},
     "output_type": "execute_result"
    }
   ],
   "source": [
    "ride_data_df.isnull().sum()"
   ]
  },
  {
   "cell_type": "code",
   "execution_count": 15,
   "id": "4f9db435",
   "metadata": {},
   "outputs": [
    {
     "data": {
      "text/plain": [
       "city        object\n",
       "date        object\n",
       "fare       float64\n",
       "ride_id      int64\n",
       "dtype: object"
      ]
     },
     "execution_count": 15,
     "metadata": {},
     "output_type": "execute_result"
    }
   ],
   "source": [
    "ride_data_df.dtypes"
   ]
  },
  {
   "cell_type": "code",
   "execution_count": 16,
   "id": "16f6289a",
   "metadata": {},
   "outputs": [
    {
     "data": {
      "text/html": [
       "<div>\n",
       "<style scoped>\n",
       "    .dataframe tbody tr th:only-of-type {\n",
       "        vertical-align: middle;\n",
       "    }\n",
       "\n",
       "    .dataframe tbody tr th {\n",
       "        vertical-align: top;\n",
       "    }\n",
       "\n",
       "    .dataframe thead th {\n",
       "        text-align: right;\n",
       "    }\n",
       "</style>\n",
       "<table border=\"1\" class=\"dataframe\">\n",
       "  <thead>\n",
       "    <tr style=\"text-align: right;\">\n",
       "      <th></th>\n",
       "      <th>city</th>\n",
       "      <th>date</th>\n",
       "      <th>fare</th>\n",
       "      <th>ride_id</th>\n",
       "      <th>driver_count</th>\n",
       "      <th>type</th>\n",
       "    </tr>\n",
       "  </thead>\n",
       "  <tbody>\n",
       "    <tr>\n",
       "      <th>0</th>\n",
       "      <td>Lake Jonathanshire</td>\n",
       "      <td>2019-01-14 10:14:22</td>\n",
       "      <td>13.83</td>\n",
       "      <td>5739410935873</td>\n",
       "      <td>5</td>\n",
       "      <td>Urban</td>\n",
       "    </tr>\n",
       "    <tr>\n",
       "      <th>1</th>\n",
       "      <td>South Michelleport</td>\n",
       "      <td>2019-03-04 18:24:09</td>\n",
       "      <td>30.24</td>\n",
       "      <td>2343912425577</td>\n",
       "      <td>72</td>\n",
       "      <td>Urban</td>\n",
       "    </tr>\n",
       "    <tr>\n",
       "      <th>2</th>\n",
       "      <td>Port Samanthamouth</td>\n",
       "      <td>2019-02-24 04:29:00</td>\n",
       "      <td>33.44</td>\n",
       "      <td>2005065760003</td>\n",
       "      <td>57</td>\n",
       "      <td>Urban</td>\n",
       "    </tr>\n",
       "    <tr>\n",
       "      <th>3</th>\n",
       "      <td>Rodneyfort</td>\n",
       "      <td>2019-02-10 23:22:03</td>\n",
       "      <td>23.44</td>\n",
       "      <td>5149245426178</td>\n",
       "      <td>34</td>\n",
       "      <td>Urban</td>\n",
       "    </tr>\n",
       "    <tr>\n",
       "      <th>4</th>\n",
       "      <td>South Jack</td>\n",
       "      <td>2019-03-06 04:28:35</td>\n",
       "      <td>34.58</td>\n",
       "      <td>3908451377344</td>\n",
       "      <td>46</td>\n",
       "      <td>Urban</td>\n",
       "    </tr>\n",
       "    <tr>\n",
       "      <th>...</th>\n",
       "      <td>...</td>\n",
       "      <td>...</td>\n",
       "      <td>...</td>\n",
       "      <td>...</td>\n",
       "      <td>...</td>\n",
       "      <td>...</td>\n",
       "    </tr>\n",
       "    <tr>\n",
       "      <th>2370</th>\n",
       "      <td>Michaelberg</td>\n",
       "      <td>2019-04-29 17:04:39</td>\n",
       "      <td>13.38</td>\n",
       "      <td>8550365057598</td>\n",
       "      <td>6</td>\n",
       "      <td>Rural</td>\n",
       "    </tr>\n",
       "    <tr>\n",
       "      <th>2371</th>\n",
       "      <td>Lake Latoyabury</td>\n",
       "      <td>2019-01-30 00:05:47</td>\n",
       "      <td>20.76</td>\n",
       "      <td>9018727594352</td>\n",
       "      <td>2</td>\n",
       "      <td>Rural</td>\n",
       "    </tr>\n",
       "    <tr>\n",
       "      <th>2372</th>\n",
       "      <td>North Jaime</td>\n",
       "      <td>2019-02-10 21:03:50</td>\n",
       "      <td>11.11</td>\n",
       "      <td>2781339863778</td>\n",
       "      <td>1</td>\n",
       "      <td>Rural</td>\n",
       "    </tr>\n",
       "    <tr>\n",
       "      <th>2373</th>\n",
       "      <td>West Heather</td>\n",
       "      <td>2019-05-07 19:22:15</td>\n",
       "      <td>44.94</td>\n",
       "      <td>4256853490277</td>\n",
       "      <td>4</td>\n",
       "      <td>Rural</td>\n",
       "    </tr>\n",
       "    <tr>\n",
       "      <th>2374</th>\n",
       "      <td>Newtonview</td>\n",
       "      <td>2019-04-25 10:20:13</td>\n",
       "      <td>55.84</td>\n",
       "      <td>9990581345298</td>\n",
       "      <td>1</td>\n",
       "      <td>Rural</td>\n",
       "    </tr>\n",
       "  </tbody>\n",
       "</table>\n",
       "<p>2375 rows × 6 columns</p>\n",
       "</div>"
      ],
      "text/plain": [
       "                    city                 date   fare        ride_id  \\\n",
       "0     Lake Jonathanshire  2019-01-14 10:14:22  13.83  5739410935873   \n",
       "1     South Michelleport  2019-03-04 18:24:09  30.24  2343912425577   \n",
       "2     Port Samanthamouth  2019-02-24 04:29:00  33.44  2005065760003   \n",
       "3             Rodneyfort  2019-02-10 23:22:03  23.44  5149245426178   \n",
       "4             South Jack  2019-03-06 04:28:35  34.58  3908451377344   \n",
       "...                  ...                  ...    ...            ...   \n",
       "2370         Michaelberg  2019-04-29 17:04:39  13.38  8550365057598   \n",
       "2371     Lake Latoyabury  2019-01-30 00:05:47  20.76  9018727594352   \n",
       "2372         North Jaime  2019-02-10 21:03:50  11.11  2781339863778   \n",
       "2373        West Heather  2019-05-07 19:22:15  44.94  4256853490277   \n",
       "2374          Newtonview  2019-04-25 10:20:13  55.84  9990581345298   \n",
       "\n",
       "      driver_count   type  \n",
       "0                5  Urban  \n",
       "1               72  Urban  \n",
       "2               57  Urban  \n",
       "3               34  Urban  \n",
       "4               46  Urban  \n",
       "...            ...    ...  \n",
       "2370             6  Rural  \n",
       "2371             2  Rural  \n",
       "2372             1  Rural  \n",
       "2373             4  Rural  \n",
       "2374             1  Rural  \n",
       "\n",
       "[2375 rows x 6 columns]"
      ]
     },
     "execution_count": 16,
     "metadata": {},
     "output_type": "execute_result"
    }
   ],
   "source": [
    "## 2. Merge DataFrames\n",
    "# The key in the 2 dfs is the city - merge using a left join (default is inner)\n",
    "\n",
    "pyber_data_df = pd.merge(ride_data_df, city_data_df, how=\"left\", on=['city', 'city'])\n",
    "\n",
    "# Display the df\n",
    "pyber_data_df"
   ]
  },
  {
   "cell_type": "code",
   "execution_count": 17,
   "id": "3435894f",
   "metadata": {},
   "outputs": [
    {
     "data": {
      "text/plain": [
       "'\\n3. Create Bubble Chart\\n    Need avg fare for each type of city on y axis\\n    Need total number of rides on x axis\\n    Size of markers should be set to number of drivers per city\\n\\n3.0 separate city types into 3 dfs \\n3.1 get total # of rides per city using count() in ride_id column \\n3.2 get avg fare using mean()\\n3.3 make bubble size correlate with avg driver count  \\n'"
      ]
     },
     "execution_count": 17,
     "metadata": {},
     "output_type": "execute_result"
    }
   ],
   "source": [
    "\"\"\"\n",
    "3. Create Bubble Chart\n",
    "    Need avg fare for each type of city on y axis\n",
    "    Need total number of rides on x axis\n",
    "    Size of markers should be set to number of drivers per city\n",
    "\n",
    "3.0 separate city types into 3 dfs \n",
    "3.1 get total # of rides per city using count() in ride_id column \n",
    "3.2 get avg fare using mean()\n",
    "3.3 make bubble size correlate with avg driver count  \n",
    "\"\"\""
   ]
  },
  {
   "cell_type": "code",
   "execution_count": 18,
   "id": "79a0cb00",
   "metadata": {},
   "outputs": [
    {
     "data": {
      "text/html": [
       "<div>\n",
       "<style scoped>\n",
       "    .dataframe tbody tr th:only-of-type {\n",
       "        vertical-align: middle;\n",
       "    }\n",
       "\n",
       "    .dataframe tbody tr th {\n",
       "        vertical-align: top;\n",
       "    }\n",
       "\n",
       "    .dataframe thead th {\n",
       "        text-align: right;\n",
       "    }\n",
       "</style>\n",
       "<table border=\"1\" class=\"dataframe\">\n",
       "  <thead>\n",
       "    <tr style=\"text-align: right;\">\n",
       "      <th></th>\n",
       "      <th>city</th>\n",
       "      <th>date</th>\n",
       "      <th>fare</th>\n",
       "      <th>ride_id</th>\n",
       "      <th>driver_count</th>\n",
       "      <th>type</th>\n",
       "    </tr>\n",
       "  </thead>\n",
       "  <tbody>\n",
       "    <tr>\n",
       "      <th>0</th>\n",
       "      <td>Lake Jonathanshire</td>\n",
       "      <td>2019-01-14 10:14:22</td>\n",
       "      <td>13.83</td>\n",
       "      <td>5739410935873</td>\n",
       "      <td>5</td>\n",
       "      <td>Urban</td>\n",
       "    </tr>\n",
       "    <tr>\n",
       "      <th>1</th>\n",
       "      <td>South Michelleport</td>\n",
       "      <td>2019-03-04 18:24:09</td>\n",
       "      <td>30.24</td>\n",
       "      <td>2343912425577</td>\n",
       "      <td>72</td>\n",
       "      <td>Urban</td>\n",
       "    </tr>\n",
       "    <tr>\n",
       "      <th>2</th>\n",
       "      <td>Port Samanthamouth</td>\n",
       "      <td>2019-02-24 04:29:00</td>\n",
       "      <td>33.44</td>\n",
       "      <td>2005065760003</td>\n",
       "      <td>57</td>\n",
       "      <td>Urban</td>\n",
       "    </tr>\n",
       "    <tr>\n",
       "      <th>3</th>\n",
       "      <td>Rodneyfort</td>\n",
       "      <td>2019-02-10 23:22:03</td>\n",
       "      <td>23.44</td>\n",
       "      <td>5149245426178</td>\n",
       "      <td>34</td>\n",
       "      <td>Urban</td>\n",
       "    </tr>\n",
       "    <tr>\n",
       "      <th>4</th>\n",
       "      <td>South Jack</td>\n",
       "      <td>2019-03-06 04:28:35</td>\n",
       "      <td>34.58</td>\n",
       "      <td>3908451377344</td>\n",
       "      <td>46</td>\n",
       "      <td>Urban</td>\n",
       "    </tr>\n",
       "  </tbody>\n",
       "</table>\n",
       "</div>"
      ],
      "text/plain": [
       "                 city                 date   fare        ride_id  \\\n",
       "0  Lake Jonathanshire  2019-01-14 10:14:22  13.83  5739410935873   \n",
       "1  South Michelleport  2019-03-04 18:24:09  30.24  2343912425577   \n",
       "2  Port Samanthamouth  2019-02-24 04:29:00  33.44  2005065760003   \n",
       "3          Rodneyfort  2019-02-10 23:22:03  23.44  5149245426178   \n",
       "4          South Jack  2019-03-06 04:28:35  34.58  3908451377344   \n",
       "\n",
       "   driver_count   type  \n",
       "0             5  Urban  \n",
       "1            72  Urban  \n",
       "2            57  Urban  \n",
       "3            34  Urban  \n",
       "4            46  Urban  "
      ]
     },
     "execution_count": 18,
     "metadata": {},
     "output_type": "execute_result"
    }
   ],
   "source": [
    "# 3.0 Setup 3 different dfs per city type\n",
    "urban_cities_df = pyber_data_df[pyber_data_df[\"type\"]==\"Urban\"]\n",
    "urban_cities_df.head()"
   ]
  },
  {
   "cell_type": "code",
   "execution_count": 19,
   "id": "82853e78",
   "metadata": {},
   "outputs": [
    {
     "data": {
      "text/html": [
       "<div>\n",
       "<style scoped>\n",
       "    .dataframe tbody tr th:only-of-type {\n",
       "        vertical-align: middle;\n",
       "    }\n",
       "\n",
       "    .dataframe tbody tr th {\n",
       "        vertical-align: top;\n",
       "    }\n",
       "\n",
       "    .dataframe thead th {\n",
       "        text-align: right;\n",
       "    }\n",
       "</style>\n",
       "<table border=\"1\" class=\"dataframe\">\n",
       "  <thead>\n",
       "    <tr style=\"text-align: right;\">\n",
       "      <th></th>\n",
       "      <th>city</th>\n",
       "      <th>date</th>\n",
       "      <th>fare</th>\n",
       "      <th>ride_id</th>\n",
       "      <th>driver_count</th>\n",
       "      <th>type</th>\n",
       "    </tr>\n",
       "  </thead>\n",
       "  <tbody>\n",
       "    <tr>\n",
       "      <th>1625</th>\n",
       "      <td>Barronchester</td>\n",
       "      <td>2019-01-27 03:08:01</td>\n",
       "      <td>27.79</td>\n",
       "      <td>6653622887913</td>\n",
       "      <td>11</td>\n",
       "      <td>Suburban</td>\n",
       "    </tr>\n",
       "    <tr>\n",
       "      <th>1626</th>\n",
       "      <td>East Kentstad</td>\n",
       "      <td>2019-04-07 19:44:19</td>\n",
       "      <td>18.75</td>\n",
       "      <td>6575961095852</td>\n",
       "      <td>20</td>\n",
       "      <td>Suburban</td>\n",
       "    </tr>\n",
       "    <tr>\n",
       "      <th>1627</th>\n",
       "      <td>Lake Omar</td>\n",
       "      <td>2019-01-17 21:33:35</td>\n",
       "      <td>21.71</td>\n",
       "      <td>966911700371</td>\n",
       "      <td>22</td>\n",
       "      <td>Suburban</td>\n",
       "    </tr>\n",
       "    <tr>\n",
       "      <th>1628</th>\n",
       "      <td>Myersshire</td>\n",
       "      <td>2019-02-27 17:38:39</td>\n",
       "      <td>17.10</td>\n",
       "      <td>5706770909868</td>\n",
       "      <td>19</td>\n",
       "      <td>Suburban</td>\n",
       "    </tr>\n",
       "    <tr>\n",
       "      <th>1629</th>\n",
       "      <td>West Hannah</td>\n",
       "      <td>2019-04-19 01:06:59</td>\n",
       "      <td>37.78</td>\n",
       "      <td>2273047151891</td>\n",
       "      <td>12</td>\n",
       "      <td>Suburban</td>\n",
       "    </tr>\n",
       "  </tbody>\n",
       "</table>\n",
       "</div>"
      ],
      "text/plain": [
       "               city                 date   fare        ride_id  driver_count  \\\n",
       "1625  Barronchester  2019-01-27 03:08:01  27.79  6653622887913            11   \n",
       "1626  East Kentstad  2019-04-07 19:44:19  18.75  6575961095852            20   \n",
       "1627      Lake Omar  2019-01-17 21:33:35  21.71   966911700371            22   \n",
       "1628     Myersshire  2019-02-27 17:38:39  17.10  5706770909868            19   \n",
       "1629    West Hannah  2019-04-19 01:06:59  37.78  2273047151891            12   \n",
       "\n",
       "          type  \n",
       "1625  Suburban  \n",
       "1626  Suburban  \n",
       "1627  Suburban  \n",
       "1628  Suburban  \n",
       "1629  Suburban  "
      ]
     },
     "execution_count": 19,
     "metadata": {},
     "output_type": "execute_result"
    }
   ],
   "source": [
    "suburban_cities_df = pyber_data_df[pyber_data_df[\"type\"]==\"Suburban\"]\n",
    "suburban_cities_df.head()\n"
   ]
  },
  {
   "cell_type": "code",
   "execution_count": 20,
   "id": "50d827dd",
   "metadata": {},
   "outputs": [
    {
     "data": {
      "text/html": [
       "<div>\n",
       "<style scoped>\n",
       "    .dataframe tbody tr th:only-of-type {\n",
       "        vertical-align: middle;\n",
       "    }\n",
       "\n",
       "    .dataframe tbody tr th {\n",
       "        vertical-align: top;\n",
       "    }\n",
       "\n",
       "    .dataframe thead th {\n",
       "        text-align: right;\n",
       "    }\n",
       "</style>\n",
       "<table border=\"1\" class=\"dataframe\">\n",
       "  <thead>\n",
       "    <tr style=\"text-align: right;\">\n",
       "      <th></th>\n",
       "      <th>city</th>\n",
       "      <th>date</th>\n",
       "      <th>fare</th>\n",
       "      <th>ride_id</th>\n",
       "      <th>driver_count</th>\n",
       "      <th>type</th>\n",
       "    </tr>\n",
       "  </thead>\n",
       "  <tbody>\n",
       "    <tr>\n",
       "      <th>2250</th>\n",
       "      <td>Randallchester</td>\n",
       "      <td>2019-04-13 11:13:31</td>\n",
       "      <td>43.22</td>\n",
       "      <td>1076079536213</td>\n",
       "      <td>9</td>\n",
       "      <td>Rural</td>\n",
       "    </tr>\n",
       "    <tr>\n",
       "      <th>2251</th>\n",
       "      <td>North Holly</td>\n",
       "      <td>2019-02-02 14:54:00</td>\n",
       "      <td>12.42</td>\n",
       "      <td>1985256326182</td>\n",
       "      <td>8</td>\n",
       "      <td>Rural</td>\n",
       "    </tr>\n",
       "    <tr>\n",
       "      <th>2252</th>\n",
       "      <td>Michaelberg</td>\n",
       "      <td>2019-03-27 18:27:34</td>\n",
       "      <td>54.85</td>\n",
       "      <td>4421836952718</td>\n",
       "      <td>6</td>\n",
       "      <td>Rural</td>\n",
       "    </tr>\n",
       "    <tr>\n",
       "      <th>2253</th>\n",
       "      <td>Lake Latoyabury</td>\n",
       "      <td>2019-02-23 21:12:24</td>\n",
       "      <td>47.90</td>\n",
       "      <td>3269652929887</td>\n",
       "      <td>2</td>\n",
       "      <td>Rural</td>\n",
       "    </tr>\n",
       "    <tr>\n",
       "      <th>2254</th>\n",
       "      <td>Lake Latoyabury</td>\n",
       "      <td>2019-05-06 08:57:56</td>\n",
       "      <td>51.80</td>\n",
       "      <td>4018025271936</td>\n",
       "      <td>2</td>\n",
       "      <td>Rural</td>\n",
       "    </tr>\n",
       "  </tbody>\n",
       "</table>\n",
       "</div>"
      ],
      "text/plain": [
       "                 city                 date   fare        ride_id  \\\n",
       "2250   Randallchester  2019-04-13 11:13:31  43.22  1076079536213   \n",
       "2251      North Holly  2019-02-02 14:54:00  12.42  1985256326182   \n",
       "2252      Michaelberg  2019-03-27 18:27:34  54.85  4421836952718   \n",
       "2253  Lake Latoyabury  2019-02-23 21:12:24  47.90  3269652929887   \n",
       "2254  Lake Latoyabury  2019-05-06 08:57:56  51.80  4018025271936   \n",
       "\n",
       "      driver_count   type  \n",
       "2250             9  Rural  \n",
       "2251             8  Rural  \n",
       "2252             6  Rural  \n",
       "2253             2  Rural  \n",
       "2254             2  Rural  "
      ]
     },
     "execution_count": 20,
     "metadata": {},
     "output_type": "execute_result"
    }
   ],
   "source": [
    "rural_cities_df = pyber_data_df[pyber_data_df[\"type\"]==\"Rural\"]\n",
    "rural_cities_df.head()"
   ]
  },
  {
   "cell_type": "code",
   "execution_count": 21,
   "id": "7c2d4d83",
   "metadata": {},
   "outputs": [
    {
     "name": "stdout",
     "output_type": "stream",
     "text": [
      "city\n",
      "Amandaburgh        18\n",
      "Barajasview        22\n",
      "Carriemouth        27\n",
      "Christopherfurt    27\n",
      "Deanville          19\n",
      "Name: ride_id, dtype: int64 city\n",
      "Barronchester    16\n",
      "Bethanyland      18\n",
      "Brandonfort      19\n",
      "Colemanland      22\n",
      "Davidfurt        17\n",
      "Name: ride_id, dtype: int64 city\n",
      "Bradshawfurt      10\n",
      "Garzaport          3\n",
      "Harringtonfort     6\n",
      "Jessicaport        6\n",
      "Lake Jamie         6\n",
      "Name: ride_id, dtype: int64\n"
     ]
    }
   ],
   "source": [
    "# 3.1 Get the number of rides per city using groupby()\n",
    "urban_ride_count = urban_cities_df.groupby([\"city\"]).count()[\"ride_id\"]\n",
    "suburban_ride_count = suburban_cities_df.groupby([\"city\"]).count()[\"ride_id\"]\n",
    "rural_ride_count = rural_cities_df.groupby([\"city\"]).count()[\"ride_id\"]\n",
    "\n",
    "print(urban_ride_count.head(), suburban_ride_count.head(), rural_ride_count.head())\n"
   ]
  },
  {
   "cell_type": "code",
   "execution_count": 22,
   "id": "546b8371",
   "metadata": {},
   "outputs": [
    {
     "name": "stdout",
     "output_type": "stream",
     "text": [
      "city\n",
      "Amandaburgh        24.641667\n",
      "Barajasview        25.332273\n",
      "Carriemouth        28.314444\n",
      "Christopherfurt    24.501852\n",
      "Deanville          25.842632\n",
      "Name: fare, dtype: float64 city\n",
      "Barronchester    36.422500\n",
      "Bethanyland      32.956111\n",
      "Brandonfort      35.437368\n",
      "Colemanland      30.894545\n",
      "Davidfurt        31.995882\n",
      "Name: fare, dtype: float64 city\n",
      "Bradshawfurt      40.064000\n",
      "Garzaport         24.123333\n",
      "Harringtonfort    33.470000\n",
      "Jessicaport       36.013333\n",
      "Lake Jamie        34.358333\n",
      "Name: fare, dtype: float64\n"
     ]
    }
   ],
   "source": [
    "# 3.2 Get the avg fare per city type\n",
    "urban_avg_fare = urban_cities_df.groupby([\"city\"]).mean()[\"fare\"]\n",
    "suburban_avg_fare = suburban_cities_df.groupby([\"city\"]).mean()[\"fare\"]\n",
    "rural_avg_fare = rural_cities_df.groupby([\"city\"]).mean()[\"fare\"]\n",
    "\n",
    "print(urban_avg_fare.head(), suburban_avg_fare.head(), rural_avg_fare.head())"
   ]
  },
  {
   "cell_type": "code",
   "execution_count": 23,
   "id": "dfcb0236",
   "metadata": {},
   "outputs": [
    {
     "name": "stdout",
     "output_type": "stream",
     "text": [
      "city\n",
      "Amandaburgh        12.0\n",
      "Barajasview        26.0\n",
      "Carriemouth        52.0\n",
      "Christopherfurt    41.0\n",
      "Deanville          49.0\n",
      "Name: driver_count, dtype: float64 city\n",
      "Barronchester    11.0\n",
      "Bethanyland      22.0\n",
      "Brandonfort      10.0\n",
      "Colemanland      23.0\n",
      "Davidfurt        23.0\n",
      "Name: driver_count, dtype: float64 city\n",
      "Bradshawfurt      7.0\n",
      "Garzaport         7.0\n",
      "Harringtonfort    4.0\n",
      "Jessicaport       1.0\n",
      "Lake Jamie        4.0\n",
      "Name: driver_count, dtype: float64\n"
     ]
    }
   ],
   "source": [
    "# 3.3 Find avg driver cound and make bubble chart\n",
    "urban_driver_count = urban_cities_df.groupby(['city']).mean()[\"driver_count\"]\n",
    "suburban_driver_count = suburban_cities_df.groupby(['city']).mean()[\"driver_count\"]\n",
    "rural_driver_count = rural_cities_df.groupby(['city']).mean()[\"driver_count\"]\n",
    "\n",
    "print(urban_driver_count.head(), suburban_driver_count.head(), rural_driver_count.head())"
   ]
  },
  {
   "cell_type": "code",
   "execution_count": 24,
   "id": "323b4f72",
   "metadata": {},
   "outputs": [
    {
     "data": {
      "text/plain": [
       "<matplotlib.legend.Legend at 0x27f4c8a9040>"
      ]
     },
     "execution_count": 24,
     "metadata": {},
     "output_type": "execute_result"
    },
    {
     "data": {
      "image/png": "[encoded data removed]",
      "text/plain": [
       "<Figure size 432x288 with 1 Axes>"
      ]
     },
     "metadata": {
      "needs_background": "light"
     },
     "output_type": "display_data"
    }
   ],
   "source": [
    "plt.scatter(\n",
    "    urban_ride_count\n",
    "    , urban_avg_fare\n",
    "    , s=10*urban_driver_count\n",
    "    , c=\"coral\"\n",
    "    , edgecolor='black'\n",
    "    , linewidths=1\n",
    "    , alpha=0.8\n",
    "    , label=\"Urban\"\n",
    "    )\n",
    "\n",
    "plt.title(\"PyBer Ride-Sharing Data (2019)\")\n",
    "plt.xlabel(\"Total Number of Rides (Per City)\")\n",
    "plt.ylabel(\"Average Fare ($)\")\n",
    "plt.grid(True)\n",
    "plt.legend()"
   ]
  },
  {
   "cell_type": "code",
   "execution_count": 25,
   "id": "8a1ea0c8",
   "metadata": {},
   "outputs": [
    {
     "data": {
      "text/plain": [
       "<matplotlib.legend.Legend at 0x27f4c92a4c0>"
      ]
     },
     "execution_count": 25,
     "metadata": {},
     "output_type": "execute_result"
    },
    {
     "data": {
      "image/png": "[encoded data removed]",
      "text/plain": [
       "<Figure size 432x288 with 1 Axes>"
      ]
     },
     "metadata": {
      "needs_background": "light"
     },
     "output_type": "display_data"
    }
   ],
   "source": [
    "plt.scatter(suburban_ride_count\n",
    "    , suburban_avg_fare\n",
    "    , s=10*suburban_driver_count\n",
    "    , c=\"skyblue\"\n",
    "    , edgecolor='black'\n",
    "    , linewidths=1\n",
    "    , alpha=0.8\n",
    "    , label=\"Suburban\"\n",
    "    )\n",
    "plt.title(\"PyBer Ride-Sharing Data (2019)\")\n",
    "plt.xlabel(\"Total Number of Rides (Per City)\")\n",
    "plt.ylabel(\"Average Fare ($)\")\n",
    "plt.grid(True)\n",
    "plt.legend()\n"
   ]
  },
  {
   "cell_type": "code",
   "execution_count": 26,
   "id": "99b39643",
   "metadata": {},
   "outputs": [
    {
     "data": {
      "text/plain": [
       "<matplotlib.legend.Legend at 0x27f4ca18bb0>"
      ]
     },
     "execution_count": 26,
     "metadata": {},
     "output_type": "execute_result"
    },
    {
     "data": {
      "image/png": "[encoded data removed]",
      "text/plain": [
       "<Figure size 432x288 with 1 Axes>"
      ]
     },
     "metadata": {
      "needs_background": "light"
     },
     "output_type": "display_data"
    }
   ],
   "source": [
    "plt.scatter(rural_ride_count\n",
    "    , rural_avg_fare\n",
    "    , s=10*rural_driver_count\n",
    "    , c=\"gold\"\n",
    "    , edgecolor='black'\n",
    "    , linewidths=1\n",
    "    , alpha=0.8\n",
    "    , label=\"Rural\"\n",
    "    )\n",
    "plt.title(\"PyBer Ride-Sharing Data (2019)\")\n",
    "plt.xlabel(\"Total Number of Rides (Per City)\")\n",
    "plt.ylabel(\"Average Fare ($)\")\n",
    "plt.grid(True)\n",
    "plt.legend()\n"
   ]
  },
  {
   "cell_type": "code",
   "execution_count": 27,
   "id": "78cdddb1",
   "metadata": {},
   "outputs": [
    {
     "data": {
      "image/png": "[encoded data removed]",
      "text/plain": [
       "<Figure size 720x432 with 1 Axes>"
      ]
     },
     "metadata": {
      "needs_background": "light"
     },
     "output_type": "display_data"
    },
    {
     "data": {
      "text/plain": [
       "<Figure size 432x288 with 0 Axes>"
      ]
     },
     "metadata": {},
     "output_type": "display_data"
    }
   ],
   "source": [
    "# Build the Scatter of all 3 plots \n",
    "\n",
    "# Adjust the size\n",
    "plt.subplots(figsize=(10,6))\n",
    "\n",
    "# Add the 3 plots\n",
    "plt.scatter(\n",
    "    urban_ride_count, urban_avg_fare, s=10*urban_driver_count, c=\"coral\", edgecolor='black', linewidths=1, alpha=0.8, label=\"Urban\"\n",
    ")\n",
    "\n",
    "plt.scatter(suburban_ride_count, suburban_avg_fare, s=10*suburban_driver_count, c=\"skyblue\", edgecolor='black', linewidths=1, alpha=0.8, label=\"Suburban\"\n",
    "            )\n",
    "\n",
    "plt.scatter(rural_ride_count, rural_avg_fare, s=10*rural_driver_count, c=\"gold\", edgecolor='black', linewidths=1, alpha=0.8, label=\"Rural\"\n",
    "            )\n",
    "\n",
    "# Add the text and grid\n",
    "plt.title(\"PyBer Ride-Sharing Data (2019)\", fontsize=20)\n",
    "plt.xlabel(\"Total Number of Rides (Per City)\", fontsize=12)\n",
    "plt.ylabel(\"Average Fare ($)\", fontsize=12)\n",
    "plt.grid(True)\n",
    "\n",
    "# Create and add the legend\n",
    "lgnd = plt.legend(fontsize=12\n",
    "    , mode=\"Expanded\"\n",
    "    , scatterpoints=1\n",
    "    , loc=\"best\"\n",
    "    , title=\"City Types\"\n",
    "    )\n",
    "lgnd.legendHandles[0]._sizes = [75]\n",
    "lgnd.legendHandles[1]._sizes = [75]\n",
    "lgnd.legendHandles[2]._sizes = [75]\n",
    "lgnd.get_title().set_fontsize(12)\n",
    "\n",
    "# Incorporate Text about circle size\n",
    "plt.text(42, 35, \"Note: Circle size denotes avg driver count per city.\", fontsize=\"12\")\n",
    "\n",
    "plt.show()\n",
    "\n",
    "plt.savefig(\"Analysis/Fig1.png\")"
   ]
  },
  {
   "cell_type": "code",
   "execution_count": 28,
   "id": "8e4acaac",
   "metadata": {},
   "outputs": [
    {
     "data": {
      "text/plain": [
       "count    66.000000\n",
       "mean     24.621212\n",
       "std       5.408726\n",
       "min      12.000000\n",
       "25%      21.000000\n",
       "50%      24.000000\n",
       "75%      28.000000\n",
       "max      39.000000\n",
       "Name: ride_id, dtype: float64"
      ]
     },
     "execution_count": 28,
     "metadata": {},
     "output_type": "execute_result"
    }
   ],
   "source": [
    "## 4. Summary Statistics \n",
    "urban_ride_count.describe()"
   ]
  },
  {
   "cell_type": "code",
   "execution_count": 29,
   "id": "19ba9699",
   "metadata": {},
   "outputs": [
    {
     "data": {
      "text/plain": [
       "count    36.000000\n",
       "mean     17.361111\n",
       "std       4.323707\n",
       "min       9.000000\n",
       "25%      14.000000\n",
       "50%      17.000000\n",
       "75%      19.250000\n",
       "max      27.000000\n",
       "Name: ride_id, dtype: float64"
      ]
     },
     "execution_count": 29,
     "metadata": {},
     "output_type": "execute_result"
    }
   ],
   "source": [
    "suburban_ride_count.describe()"
   ]
  },
  {
   "cell_type": "code",
   "execution_count": 30,
   "id": "4f19f831",
   "metadata": {},
   "outputs": [
    {
     "data": {
      "text/plain": [
       "count    18.000000\n",
       "mean      6.944444\n",
       "std       2.508157\n",
       "min       3.000000\n",
       "25%       5.250000\n",
       "50%       6.000000\n",
       "75%       8.750000\n",
       "max      12.000000\n",
       "Name: ride_id, dtype: float64"
      ]
     },
     "execution_count": 30,
     "metadata": {},
     "output_type": "execute_result"
    }
   ],
   "source": [
    "rural_ride_count.describe()"
   ]
  },
  {
   "cell_type": "code",
   "execution_count": 31,
   "id": "603a7d13",
   "metadata": {},
   "outputs": [
    {
     "data": {
      "text/plain": [
       "(24.62, 17.36, 6.94)"
      ]
     },
     "execution_count": 31,
     "metadata": {},
     "output_type": "execute_result"
    }
   ],
   "source": [
    "# Calculate the mean of the ride count for each city type.\n",
    "\n",
    "round(urban_ride_count.mean(),2), round(suburban_ride_count.mean(),2), round(rural_ride_count.mean(),2)"
   ]
  },
  {
   "cell_type": "code",
   "execution_count": 32,
   "id": "617cee94",
   "metadata": {},
   "outputs": [
    {
     "data": {
      "text/plain": [
       "(24.0, 17.0, 6.0)"
      ]
     },
     "execution_count": 32,
     "metadata": {},
     "output_type": "execute_result"
    }
   ],
   "source": [
    "# Find the median of the ride count for each city type.\n",
    "\n",
    "urban_ride_count.median(), suburban_ride_count.median(), rural_ride_count.median()"
   ]
  },
  {
   "cell_type": "code",
   "execution_count": 33,
   "id": "3175f7e5",
   "metadata": {},
   "outputs": [
    {
     "data": {
      "text/plain": [
       "(0    22\n",
       " 1    25\n",
       " Name: ride_id, dtype: int64,\n",
       " 0    17\n",
       " Name: ride_id, dtype: int64,\n",
       " 0    6\n",
       " Name: ride_id, dtype: int64)"
      ]
     },
     "execution_count": 33,
     "metadata": {},
     "output_type": "execute_result"
    }
   ],
   "source": [
    "# Determine the mode of each \n",
    "urban_ride_count.mode(), suburban_ride_count.mode(), rural_ride_count.mode()"
   ]
  },
  {
   "cell_type": "code",
   "execution_count": 34,
   "id": "91a4bd0e",
   "metadata": {},
   "outputs": [
    {
     "name": "stdout",
     "output_type": "stream",
     "text": [
      "The mean for the ride counts of Urban trips is 24.62.\n",
      "The mean for the ride counts of Urban trips is 24.0.\n",
      "The mean for the ride counts of Urban trips is ModeResult(mode=array([22], dtype=int64), count=array([7])).\n"
     ]
    }
   ],
   "source": [
    " # Calculate the measures of central tendency for the ride count for the urban cities\n",
    " mean_urban_ride_count = np.mean(urban_ride_count)\n",
    " median_urban_ride_count = np.median(urban_ride_count)\n",
    " mode_urban_ride_count = sts.mode(urban_ride_count)\n",
    " print(f\"The mean for the ride counts of Urban trips is {mean_urban_ride_count:.2f}.\")\n",
    " print(f\"The mean for the ride counts of Urban trips is {median_urban_ride_count}.\")\n",
    " print(f\"The mean for the ride counts of Urban trips is {mode_urban_ride_count}.\")\n"
   ]
  },
  {
   "cell_type": "code",
   "execution_count": 35,
   "id": "20205e9c",
   "metadata": {},
   "outputs": [
    {
     "name": "stdout",
     "output_type": "stream",
     "text": [
      "The mean for the ride counts of Suburban trips is 17.36.\n",
      "The median for the ride counts of Suburban trips is 17.00.\n",
      "The mode for the ride counts of Suburban trips is ModeResult(mode=array([17], dtype=int64), count=array([7])).\n"
     ]
    }
   ],
   "source": [
    "# Calculate the measures of central tendency for the ride count for the urban cities\n",
    "mean_suburban_ride_count = np.mean(suburban_ride_count)\n",
    "median_suburban_ride_count = np.median(suburban_ride_count)\n",
    "mode_suburban_ride_count = sts.mode(suburban_ride_count)\n",
    "print(f\"The mean for the ride counts of Suburban trips is {mean_suburban_ride_count:.2f}.\")\n",
    "print(\n",
    "    f\"The median for the ride counts of Suburban trips is {median_suburban_ride_count:.2f}.\")\n",
    "print(\n",
    "    f\"The mode for the ride counts of Suburban trips is {mode_suburban_ride_count}.\")\n"
   ]
  },
  {
   "cell_type": "code",
   "execution_count": 36,
   "id": "a858116c",
   "metadata": {},
   "outputs": [
    {
     "name": "stdout",
     "output_type": "stream",
     "text": [
      "The mean for the ride counts of Rural trips is 6.94.\n",
      "The median for the ride counts of Rural trips is 6.0.\n",
      "The mode for the ride counts of Rural trips is ModeResult(mode=array([6], dtype=int64), count=array([5])).\n"
     ]
    }
   ],
   "source": [
    "# Calculate the measures of central tendency for the ride count for the urban cities\n",
    "mean_rural_ride_count = np.mean(rural_ride_count)\n",
    "print(f\"The mean for the ride counts of Rural trips is {mean_rural_ride_count:.2f}.\")\n",
    "\n",
    "median_rural_ride_count = np.median(rural_ride_count)\n",
    "print(f\"The median for the ride counts of Rural trips is {median_rural_ride_count}.\")\n",
    "\n",
    "mode_rural_ride_count = sts.mode(rural_ride_count)\n",
    "print(f\"The mode for the ride counts of Rural trips is {mode_rural_ride_count}.\")\n"
   ]
  },
  {
   "cell_type": "code",
   "execution_count": 37,
   "id": "eaeaf6df",
   "metadata": {},
   "outputs": [
    {
     "name": "stdout",
     "output_type": "stream",
     "text": [
      "0    13.83\n",
      "1    30.24\n",
      "2    33.44\n",
      "3    23.44\n",
      "4    34.58\n",
      "Name: fare, dtype: float64 1625    27.79\n",
      "1626    18.75\n",
      "1627    21.71\n",
      "1628    17.10\n",
      "1629    37.78\n",
      "Name: fare, dtype: float64 2250    43.22\n",
      "2251    12.42\n",
      "2252    54.85\n",
      "2253    47.90\n",
      "2254    51.80\n",
      "Name: fare, dtype: float64\n"
     ]
    }
   ],
   "source": [
    "# Summary Statistics for the Fare by City Type\n",
    "urban_fares = urban_cities_df[\"fare\"]\n",
    "suburban_fares = suburban_cities_df[\"fare\"]\n",
    "rural_fares = rural_cities_df[\"fare\"]\n",
    "print(urban_fares.head(), suburban_fares.head(), rural_fares.head())"
   ]
  },
  {
   "cell_type": "code",
   "execution_count": 38,
   "id": "6475af11",
   "metadata": {},
   "outputs": [
    {
     "name": "stdout",
     "output_type": "stream",
     "text": [
      "The mean fare price for urban trips is $24.53.\n",
      "The median fare price for urban trips is $ 24.64.\n",
      "The mode fare price for urban trips is $ModeResult(mode=array([22.86]), count=array([5])).\n"
     ]
    }
   ],
   "source": [
    "# Measures of central tendency for urban trips\n",
    "mean_urban_fares = np.mean(urban_fares)\n",
    "median_urban_fares = np.median(urban_fares)\n",
    "mode_urban_fares = sts.mode(urban_fares)\n",
    "\n",
    "print(f'The mean fare price for urban trips is ${mean_urban_fares:.2f}.')\n",
    "print(f'The median fare price for urban trips is $ {median_urban_fares}.')\n",
    "print(f'The mode fare price for urban trips is ${mode_urban_fares}.')"
   ]
  },
  {
   "cell_type": "code",
   "execution_count": 39,
   "id": "52a80879",
   "metadata": {},
   "outputs": [
    {
     "name": "stdout",
     "output_type": "stream",
     "text": [
      "The mean fare price for suburban trips is $30.97.\n",
      "The median fare price for suburban trips is $ 30.75.\n",
      "The mode fare price for suburban trips is $ModeResult(mode=array([17.99]), count=array([3])).\n"
     ]
    }
   ],
   "source": [
    "# Measures of central tendency for suburban trips\n",
    "mean_suburban_fares = np.mean(suburban_fares)\n",
    "median_suburban_fares = np.median(suburban_fares)\n",
    "mode_suburban_fares = sts.mode(suburban_fares)\n",
    "\n",
    "print(f'The mean fare price for suburban trips is ${mean_suburban_fares:.2f}.')\n",
    "print(f'The median fare price for suburban trips is $ {median_suburban_fares}.')\n",
    "print(f'The mode fare price for suburban trips is ${mode_suburban_fares}.')\n"
   ]
  },
  {
   "cell_type": "code",
   "execution_count": 40,
   "id": "2dd4de56",
   "metadata": {},
   "outputs": [
    {
     "name": "stdout",
     "output_type": "stream",
     "text": [
      "The mean fare price for rural trips is $34.62.\n",
      "The median fare price for rural trips is $ 37.05.\n",
      "The mode fare price for rural trips is $ModeResult(mode=array([37.05]), count=array([2])).\n"
     ]
    }
   ],
   "source": [
    "# Measures of central tendency for rural trips\n",
    "mean_rural_fares = np.mean(rural_fares)\n",
    "median_rural_fares = np.median(rural_fares)\n",
    "mode_rural_fares = sts.mode(rural_fares)\n",
    "\n",
    "print(f'The mean fare price for rural trips is ${mean_rural_fares:.2f}.')\n",
    "print(\n",
    "    f'The median fare price for rural trips is $ {median_rural_fares}.')\n",
    "print(f'The mode fare price for rural trips is ${mode_rural_fares}.')\n"
   ]
  },
  {
   "cell_type": "code",
   "execution_count": 41,
   "id": "686b7a6e",
   "metadata": {},
   "outputs": [
    {
     "name": "stdout",
     "output_type": "stream",
     "text": [
      "0     5\n",
      "1    72\n",
      "2    57\n",
      "3    34\n",
      "4    46\n",
      "Name: driver_count, dtype: int64 1625    11\n",
      "1626    20\n",
      "1627    22\n",
      "1628    19\n",
      "1629    12\n",
      "Name: driver_count, dtype: int64 2250    9\n",
      "2251    8\n",
      "2252    6\n",
      "2253    2\n",
      "2254    2\n",
      "Name: driver_count, dtype: int64\n"
     ]
    }
   ],
   "source": [
    "# Summary Statistics for the Number of Drivers by City Type\n",
    "# Get driver count data from the urban cities \n",
    "\n",
    "urban_drivers = urban_cities_df['driver_count']\n",
    "suburban_drivers = suburban_cities_df['driver_count']\n",
    "rural_drivers = rural_cities_df['driver_count']\n",
    "\n",
    "print(urban_drivers.head(), suburban_drivers.head(), rural_drivers.head())"
   ]
  },
  {
   "cell_type": "code",
   "execution_count": 42,
   "id": "8621c6ef",
   "metadata": {},
   "outputs": [
    {
     "name": "stdout",
     "output_type": "stream",
     "text": [
      "The mean number of urban drivers is 37.\n",
      "The median number of urban drivers is 37.0.\n",
      "The mode number of urban drivers is ModeResult(mode=array([39], dtype=int64), count=array([86])).\n",
      "The mean number of suburban drivers is 14.\n",
      "The median number of suburban drivers is 16.0.\n",
      "The mode number of suburban drivers is ModeResult(mode=array([20], dtype=int64), count=array([79])).\n",
      "The mean number of rural drivers is 4.\n",
      "The median number of rural drivers is 4.0.\n",
      "The mode number of rural drivers is ModeResult(mode=array([1], dtype=int64), count=array([32])).\n"
     ]
    }
   ],
   "source": [
    "# Measures of central tendency for urban drivers\n",
    "mean_urban_drivers = np.mean(urban_drivers)\n",
    "median_urban_drivers = np.median(urban_drivers)\n",
    "mode_urban_drivers = sts.mode(urban_drivers)\n",
    "\n",
    "print(f'The mean number of urban drivers is {mean_urban_drivers:.0f}.')\n",
    "print(f'The median number of urban drivers is {median_urban_drivers}.')\n",
    "print(f'The mode number of urban drivers is {mode_urban_drivers}.')\n",
    "\n",
    "# Measures of central tendency for suburban drivers\n",
    "mean_suburban_drivers = np.mean(suburban_drivers)\n",
    "median_suburban_drivers = np.median(suburban_drivers)\n",
    "mode_suburban_drivers = sts.mode(suburban_drivers)\n",
    "\n",
    "print(f'The mean number of suburban drivers is {mean_suburban_drivers:.0f}.')\n",
    "print(\n",
    "    f'The median number of suburban drivers is {median_suburban_drivers}.')\n",
    "print(f'The mode number of suburban drivers is {mode_suburban_drivers}.')\n",
    "\n",
    "\n",
    "# Measures of central tendency for rural drivers\n",
    "mean_rural_drivers = np.mean(rural_drivers)\n",
    "median_rural_drivers = np.median(rural_drivers)\n",
    "mode_rural_drivers = sts.mode(rural_drivers)\n",
    "\n",
    "print(f'The mean number of rural drivers is {mean_rural_drivers:.0f}.')\n",
    "print(\n",
    "    f'The median number of rural drivers is {median_rural_drivers}.')\n",
    "print(f'The mode number of rural drivers is {mode_rural_drivers}.')\n"
   ]
  },
  {
   "cell_type": "code",
   "execution_count": 43,
   "id": "3e70858f",
   "metadata": {},
   "outputs": [
    {
     "data": {
      "image/png": "[encoded data removed]",
      "text/plain": [
       "<Figure size 720x432 with 1 Axes>"
      ]
     },
     "metadata": {
      "needs_background": "light"
     },
     "output_type": "display_data"
    }
   ],
   "source": [
    "## 8. Create Box and Whisker Plots\n",
    "# Create box-whisker plots for urban cities ride count\n",
    "x_labels = [\"Urban\", \"Suburban\", \"Rural\"]\n",
    "ride_count_data = [urban_ride_count, suburban_ride_count, rural_ride_count]\n",
    "fig, ax = plt.subplots(figsize=(10, 6))\n",
    "\n",
    "\n",
    "ax.set_title(\"Ride Count Data (2019)\", fontsize=20)\n",
    "ax.set_ylabel('Number of Rides', fontsize=14)\n",
    "ax.set_xlabel(\"City Type\", fontsize=14)\n",
    "ax.boxplot(ride_count_data, labels=x_labels)\n",
    "\n",
    "# Add the title, y-axis label and grid.\n",
    "ax.set_yticks(np.arange(10, 41, step = 3.0))\n",
    "ax.grid()\n",
    "\n",
    "plt.savefig(\"Analysis/Fig2.png\")\n",
    "plt.show()"
   ]
  },
  {
   "cell_type": "code",
   "execution_count": 44,
   "id": "94bf72dd",
   "metadata": {},
   "outputs": [
    {
     "name": "stdout",
     "output_type": "stream",
     "text": [
      "West Angela has the highest rider count.\n"
     ]
    }
   ],
   "source": [
    "# Find the city that has the outlier of 39\n",
    "urban_city_outlier = urban_ride_count[urban_ride_count==39].index[0]\n",
    "print(f\"{urban_city_outlier} has the highest rider count.\")"
   ]
  },
  {
   "cell_type": "code",
   "execution_count": 45,
   "id": "61fd38c3",
   "metadata": {},
   "outputs": [
    {
     "data": {
      "image/png": "[encoded data removed]",
      "text/plain": [
       "<Figure size 720x432 with 1 Axes>"
      ]
     },
     "metadata": {
      "needs_background": "light"
     },
     "output_type": "display_data"
    },
    {
     "name": "stdout",
     "output_type": "stream",
     "text": [
      "Summary Statistics\n",
      "count    1625.000000\n",
      "mean       24.525772\n",
      "std        11.738649\n",
      "min         4.050000\n",
      "25%        14.550000\n",
      "50%        24.640000\n",
      "75%        34.580000\n",
      "max        44.970000\n",
      "Name: fare, dtype: float64\n",
      "count    625.000000\n",
      "mean      30.970128\n",
      "std       10.677508\n",
      "min       12.050000\n",
      "25%       21.970000\n",
      "50%       30.750000\n",
      "75%       39.830000\n",
      "max       49.960000\n",
      "Name: fare, dtype: float64\n",
      "count    125.000000\n",
      "mean      34.623440\n",
      "std       14.558046\n",
      "min       10.110000\n",
      "25%       19.900000\n",
      "50%       37.050000\n",
      "75%       47.070000\n",
      "max       58.550000\n",
      "Name: fare, dtype: float64\n"
     ]
    }
   ],
   "source": [
    "# Create a box-and-whimper plot for the FARE data\n",
    "x_labels = [\"Urban\", \"Suburban\", \"Rural\"]\n",
    "ride_fare_data = [urban_fares, suburban_fares, rural_fares]\n",
    "fig, ax = plt.subplots(figsize=(10, 6))\n",
    "\n",
    "\n",
    "ax.set_title(\"Ride Fare Data (2019)\", fontsize=20)\n",
    "ax.set_ylabel('Fare ($USD)', fontsize=14)\n",
    "ax.set_xlabel(\"City Type\", fontsize=14)\n",
    "ax.boxplot(ride_fare_data, labels=x_labels)\n",
    "\n",
    "# Add the title, y-axis label and grid.\n",
    "ax.set_yticks(np.arange(0, 61, step=4.0))\n",
    "ax.grid()\n",
    "\n",
    "plt.savefig(\"Analysis/Fig3.png\")\n",
    "plt.show()\n",
    "\n",
    "print(\"Summary Statistics\")\n",
    "print(urban_fares.describe())\n",
    "print(suburban_fares.describe())\n",
    "print(rural_fares.describe())"
   ]
  },
  {
   "cell_type": "code",
   "execution_count": 46,
   "id": "cd1773d4",
   "metadata": {},
   "outputs": [
    {
     "data": {
      "image/png": "[encoded data removed]",
      "text/plain": [
       "<Figure size 720x432 with 1 Axes>"
      ]
     },
     "metadata": {
      "needs_background": "light"
     },
     "output_type": "display_data"
    },
    {
     "name": "stdout",
     "output_type": "stream",
     "text": [
      "Summary Statistics\n",
      "count    1625.000000\n",
      "mean       36.678154\n",
      "std        20.075545\n",
      "min         3.000000\n",
      "25%        22.000000\n",
      "50%        37.000000\n",
      "75%        52.000000\n",
      "max        73.000000\n",
      "Name: driver_count, dtype: float64\n",
      "count    625.000000\n",
      "mean      13.712000\n",
      "std        8.042372\n",
      "min        1.000000\n",
      "25%        5.000000\n",
      "50%       16.000000\n",
      "75%       21.000000\n",
      "max       25.000000\n",
      "Name: driver_count, dtype: float64\n",
      "count    125.000000\n",
      "mean       4.296000\n",
      "std        2.691156\n",
      "min        1.000000\n",
      "25%        1.000000\n",
      "50%        4.000000\n",
      "75%        7.000000\n",
      "max        9.000000\n",
      "Name: driver_count, dtype: float64\n"
     ]
    }
   ],
   "source": [
    "# Create a box-and-whimper plot for the Driver data\n",
    "x_labels = [\"Urban\", \"Suburban\", \"Rural\"]\n",
    "ride_driver_data = [urban_drivers, suburban_drivers, rural_drivers]\n",
    "fig, ax = plt.subplots(figsize=(10, 6))\n",
    "\n",
    "\n",
    "ax.set_title(\"Driver Data (2019)\", fontsize=20)\n",
    "ax.set_ylabel('Number of Drivers', fontsize=14)\n",
    "ax.set_xlabel(\"City Type\", fontsize=14)\n",
    "ax.boxplot(ride_driver_data, labels=x_labels)\n",
    "\n",
    "# Add the title, y-axis label and grid.\n",
    "ax.set_yticks(np.arange(0, 76, step=5.0))\n",
    "ax.grid()\n",
    "\n",
    "plt.savefig(\"Analysis/Fig4.png\")\n",
    "plt.show()\n",
    "\n",
    "print(\"Summary Statistics\")\n",
    "print(urban_drivers.describe())\n",
    "print(suburban_drivers.describe())\n",
    "print(rural_drivers.describe())\n"
   ]
  },
  {
   "cell_type": "code",
   "execution_count": 47,
   "id": "5ed20e5e",
   "metadata": {},
   "outputs": [],
   "source": [
    "## 12. Make Pie Charts \n",
    "# Get the sum of the fares per city type\n",
    "\n",
    "# sum_fares_by_type = pyber_data_df.groupby([\"type\"]).sum()[\"fare\"]\n",
    "# sum_fares_by_type\n"
   ]
  },
  {
   "cell_type": "code",
   "execution_count": 48,
   "id": "d548994e",
   "metadata": {},
   "outputs": [],
   "source": [
    "# Get sum of all fares\n",
    "\n",
    "# total_fares = pyber_data_df[\"fare\"].sum()\n",
    "# total_fares"
   ]
  },
  {
   "cell_type": "code",
   "execution_count": 49,
   "id": "bc774ee5",
   "metadata": {},
   "outputs": [],
   "source": [
    "# Find percentage for each type\n",
    "\n",
    "# type_percents = 100 * sum_fares_by_type / total_fares\n",
    "# type_percents"
   ]
  },
  {
   "cell_type": "code",
   "execution_count": 50,
   "id": "7da7b655",
   "metadata": {},
   "outputs": [
    {
     "data": {
      "text/plain": [
       "type\n",
       "Rural        6.811493\n",
       "Suburban    30.463872\n",
       "Urban       62.724635\n",
       "Name: fare, dtype: float64"
      ]
     },
     "execution_count": 50,
     "metadata": {},
     "output_type": "execute_result"
    }
   ],
   "source": [
    "# A better way of doing the above tasks in one step: \n",
    "\n",
    "type_percents = 100 * pyber_data_df.groupby([\"type\"]).sum()[\"fare\"] / pyber_data_df['fare'].sum()\n",
    "type_percents"
   ]
  },
  {
   "cell_type": "code",
   "execution_count": 51,
   "id": "622c9b04",
   "metadata": {},
   "outputs": [
    {
     "data": {
      "image/png": "[encoded data removed]",
      "text/plain": [
       "<Figure size 720x432 with 1 Axes>"
      ]
     },
     "metadata": {},
     "output_type": "display_data"
    }
   ],
   "source": [
    "# Build the perecntage of fares by city type pie chart\n",
    "\n",
    "plt.subplots(figsize=(10,6))\n",
    "\n",
    "plt.pie(type_percents\n",
    "    , labels=[\"Rural\", \"Suburban\", \"Urban\"]\n",
    "    , colors=[\"gold\", \"lightskyblue\", \"lightcoral\"]\n",
    "    , explode=[0, 0, 0.1]\n",
    "    , autopct='%1.1f%%'\n",
    "    , shadow=True\n",
    "    , startangle=150\n",
    "    )\n",
    "\n",
    "plt.title(\"Percent of Total Fares by City Type\")\n",
    "\n",
    "# Change default font from 10 to 14\n",
    "mpl.rcParams['font.size'] = 14\n",
    "\n",
    "# Save Figure\n",
    "plt.savefig(\"Analysis/Fig5.png\")\n",
    "\n",
    "# Show the figure\n",
    "plt.show()"
   ]
  },
  {
   "cell_type": "code",
   "execution_count": 52,
   "id": "3270bfde",
   "metadata": {},
   "outputs": [
    {
     "data": {
      "text/plain": [
       "type\n",
       "Rural        5.263158\n",
       "Suburban    26.315789\n",
       "Urban       68.421053\n",
       "Name: ride_id, dtype: float64"
      ]
     },
     "execution_count": 52,
     "metadata": {},
     "output_type": "execute_result"
    }
   ],
   "source": [
    "## Make the pie chart for ride percentages\n",
    "ride_percents = 100 * \\\n",
    "    pyber_data_df.groupby([\"type\"]).count()[\"ride_id\"] / pyber_data_df['ride_id'].count()\n",
    "ride_percents\n"
   ]
  },
  {
   "cell_type": "code",
   "execution_count": 55,
   "id": "d3ec3d91",
   "metadata": {},
   "outputs": [
    {
     "data": {
      "image/png": "[encoded data removed]",
      "text/plain": [
       "<Figure size 720x432 with 1 Axes>"
      ]
     },
     "metadata": {},
     "output_type": "display_data"
    }
   ],
   "source": [
    "# Build the perecntage of riders by city type pie chart\n",
    "\n",
    "plt.subplots(figsize=(10, 6))\n",
    "\n",
    "plt.pie(ride_percents\n",
    "    , labels=[\"Rural\", \"Suburban\", \"Urban\"]\n",
    "    , colors=[\"gold\", \"lightskyblue\", \"lightcoral\"]\n",
    "    , explode=[0, 0, 0.1]\n",
    "    , autopct='%1.1f%%'\n",
    "    , shadow=True\n",
    "    , startangle=150\n",
    "    )\n",
    "\n",
    "plt.title(\"% of Total Rides by City Type\")\n",
    "\n",
    "# Change default font from 10 to 14\n",
    "mpl.rcParams['font.size'] = 14\n",
    "\n",
    "# Save Figure\n",
    "plt.savefig(\"Analysis/Fig6.png\")\n",
    "\n",
    "# Show the figure\n",
    "plt.show()\n"
   ]
  }
 ],
 "metadata": {
  "kernelspec": {
   "display_name": "PythonData",
   "language": "python",
   "name": "pythondata"
  },
  "language_info": {
   "codemirror_mode": {
    "name": "ipython",
    "version": 3
   },
   "file_extension": ".py",
   "mimetype": "text/x-python",
   "name": "python",
   "nbconvert_exporter": "python",
   "pygments_lexer": "ipython3",
   "version": "3.9.12"
  },
  "vscode": {
   "interpreter": {
    "hash": "7e09721073e436e35d84ed4cdbbeb045311bd476b44317739da864ee086bb1be"
   }
  }
 },
 "nbformat": 4,
 "nbformat_minor": 5
}
